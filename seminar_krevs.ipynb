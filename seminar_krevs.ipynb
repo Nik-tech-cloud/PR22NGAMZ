{
 "cells": [
  {
   "cell_type": "markdown",
   "metadata": {},
   "source": [
    "## Kriminal glede na organizirano združbo\n",
    "\n",
    "Zemljevid Slovenije, ki prikazuje "
   ]
  },
  {
   "cell_type": "code",
   "execution_count": null,
   "metadata": {},
   "outputs": [],
   "source": []
  }
 ],
 "metadata": {
  "language_info": {
   "name": "python"
  },
  "orig_nbformat": 4
 },
 "nbformat": 4,
 "nbformat_minor": 2
}

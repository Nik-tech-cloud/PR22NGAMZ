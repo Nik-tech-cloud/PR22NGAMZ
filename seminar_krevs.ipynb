{
 "cells": [
  {
   "cell_type": "markdown",
   "metadata": {},
   "source": [
    "## Kriminal glede na organizirano združbo\n",
    "\n",
    "Pridobivanje podatkov za obravnavo"
   ]
  },
  {
   "cell_type": "code",
   "execution_count": 1,
   "metadata": {},
   "outputs": [],
   "source": [
    "import pandas as pd\n",
    "import glob\n",
    "import warnings\n",
    "import platform\n",
    "from copy import copy\n",
    "warnings.filterwarnings('ignore')\n",
    "\n",
    "if (platform.system() == 'Windows'):\n",
    "    l = glob.glob('data/*.csv')\n",
    "    for i in range(len(l)):\n",
    "        l[i] = l[i].split('\\\\')[-1].upper()\n",
    "\n",
    "    # slovar poti do .csv datotek\n",
    "    csv_data = {data.split('\\\\')[1].split('.')[0].upper():data for data in glob.glob('data/*.csv')}\n",
    "    \n",
    "    # MAC IN LINUX IMATA DRUGACNE OZNAKE\n",
    "else:\n",
    "    l = glob.glob('data/*.csv')\n",
    "    for i in range(len(l)):\n",
    "        l[i] = l[i].split('/')[-1].upper()\n",
    "\n",
    "    # slovar poti do .csv datotek\n",
    "    csv_data = {data.split('/')[1].split('.')[0].upper():data for data in glob.glob('data/*.csv')}"
   ]
  },
  {
   "cell_type": "code",
   "execution_count": 2,
   "metadata": {},
   "outputs": [],
   "source": [
    "dataframes = {}\n",
    "for key, value in csv_data.items():\n",
    "    df = pd.read_csv(csv_data[key], sep=';', encoding='cp1250', skipinitialspace = True)\n",
    "    dataframes[key.upper()] = df\n",
    "\n",
    "for df1 in dataframes.values():\n",
    "    df1.columns = ['MesecStoritve' if x == 'DatumStoritve' else x for x in df]"
   ]
  },
  {
   "cell_type": "code",
   "execution_count": 3,
   "metadata": {},
   "outputs": [],
   "source": [
    "dataframes_copy = copy(dataframes)\n",
    "frames = [copy(dataframes_copy['KD2009'])]\n",
    "for i in range(10, 21):\n",
    "    frames.append(copy(dataframes_copy['KD20'+str(i)]))\n",
    "\n",
    "all_data = pd.concat(frames)\n",
    "all_data\n",
    "\n",
    "# tu se naredi preslikava glede iz neberljive oblike datuma v berljivo obliko\n",
    "mesci = ['Januar', 'Februar', 'Marec', 'April', 'Maj', 'Junij', 'Julij', 'Avgust', 'September', 'Oktober', 'November', 'December']\n",
    "mesci2 = []\n",
    "leta = []\n",
    "\n",
    "# this dataframe is the one used for the analysis\n",
    "full_KD = all_data\n",
    "\n",
    "for i in full_KD['MesecStoritve']:\n",
    "    mesec = str(i)[:-4]\n",
    "    leto = str(i)[-4:]\n",
    "\n",
    "    leta.append(leto)\n",
    "    mesci2.append(mesci[int(mesec) - 1])\n",
    "\n",
    "\n",
    "full_KD.rename(columns={'MesecStoritve': 'CasovnaOznaka'}, inplace=True)\n",
    "full_KD['MesecStoritve'] = mesci2\n",
    "full_KD['LetoStoritve'] = leta\n",
    "full_KD['LetoStoritve'] = full_KD['LetoStoritve'].astype(int)"
   ]
  },
  {
   "cell_type": "code",
   "execution_count": 4,
   "metadata": {},
   "outputs": [],
   "source": [
    "color_pallete = ['#FF0170', '#F72585', '#B5179E', '#7209B7', '#560BAD', '#480CA8', '#3A0CA3', '#3F37C9', '#4361EE', '#4895EF', '#4CC9F0', '#82D8F2']"
   ]
  },
  {
   "cell_type": "code",
   "execution_count": 5,
   "metadata": {},
   "outputs": [
    {
     "data": {
      "text/plain": [
       "NE    1633699\n",
       "DA      18733\n",
       "Name: OrganiziranaZdruzba, dtype: int64"
      ]
     },
     "execution_count": 5,
     "metadata": {},
     "output_type": "execute_result"
    }
   ],
   "source": [
    "full_KD.OrganiziranaZdruzba.value_counts()"
   ]
  },
  {
   "cell_type": "code",
   "execution_count": 6,
   "metadata": {},
   "outputs": [
    {
     "ename": "ModuleNotFoundError",
     "evalue": "No module named 'geopandas'",
     "output_type": "error",
     "traceback": [
      "\u001b[1;31m---------------------------------------------------------------------------\u001b[0m",
      "\u001b[1;31mModuleNotFoundError\u001b[0m                       Traceback (most recent call last)",
      "\u001b[1;32mc:\\Users\\gaspe\\OneDrive - Univerza v Ljubljani\\Faks\\Podatkovno_rudarjenje\\Seminarska_naloga\\PR22NGAMZ\\seminar_krevs.ipynb Cell 7'\u001b[0m in \u001b[0;36m<cell line: 1>\u001b[1;34m()\u001b[0m\n\u001b[1;32m----> <a href='vscode-notebook-cell:/c%3A/Users/gaspe/OneDrive%20-%20Univerza%20v%20Ljubljani/Faks/Podatkovno_rudarjenje/Seminarska_naloga/PR22NGAMZ/seminar_krevs.ipynb#ch0000006?line=0'>1</a>\u001b[0m \u001b[39mimport\u001b[39;00m \u001b[39mgeopandas\u001b[39;00m \u001b[39mas\u001b[39;00m \u001b[39mgpd\u001b[39;00m\n\u001b[0;32m      <a href='vscode-notebook-cell:/c%3A/Users/gaspe/OneDrive%20-%20Univerza%20v%20Ljubljani/Faks/Podatkovno_rudarjenje/Seminarska_naloga/PR22NGAMZ/seminar_krevs.ipynb#ch0000006?line=1'>2</a>\u001b[0m \u001b[39mimport\u001b[39;00m \u001b[39mmatplotlib\u001b[39;00m\u001b[39m.\u001b[39;00m\u001b[39mpyplot\u001b[39;00m \u001b[39mas\u001b[39;00m \u001b[39mplt\u001b[39;00m\n\u001b[0;32m      <a href='vscode-notebook-cell:/c%3A/Users/gaspe/OneDrive%20-%20Univerza%20v%20Ljubljani/Faks/Podatkovno_rudarjenje/Seminarska_naloga/PR22NGAMZ/seminar_krevs.ipynb#ch0000006?line=3'>4</a>\u001b[0m seznam_PU \u001b[39m=\u001b[39m full_KD\u001b[39m.\u001b[39mPUStoritveKD\u001b[39m.\u001b[39mvalue_counts()\n",
      "\u001b[1;31mModuleNotFoundError\u001b[0m: No module named 'geopandas'"
     ]
    }
   ],
   "source": [
    "import geopandas as gpd\n",
    "import matplotlib.pyplot as plt\n",
    "\n",
    "seznam_PU = full_KD.PUStoritveKD.value_counts()\n",
    "\n",
    "stevilo = [seznam_PU[\"PU KRANJ\"], 0, seznam_PU[\"PU KRANJ\"]]\n",
    "\n",
    "\n",
    "slovenia = gpd.read_file('slovenija_map/obcine/obc.shp', encoding='cp1250')"
   ]
  },
  {
   "cell_type": "code",
   "execution_count": null,
   "metadata": {},
   "outputs": [],
   "source": []
  }
 ],
 "metadata": {
  "interpreter": {
   "hash": "369f2c481f4da34e4445cda3fffd2e751bd1c4d706f27375911949ba6bb62e1c"
  },
  "kernelspec": {
   "display_name": "Python 3.10.0 64-bit",
   "language": "python",
   "name": "python3"
  },
  "language_info": {
   "codemirror_mode": {
    "name": "ipython",
    "version": 3
   },
   "file_extension": ".py",
   "mimetype": "text/x-python",
   "name": "python",
   "nbconvert_exporter": "python",
   "pygments_lexer": "ipython3",
   "version": "3.10.0"
  },
  "orig_nbformat": 4
 },
 "nbformat": 4,
 "nbformat_minor": 2
}

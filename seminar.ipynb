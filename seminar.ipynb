{
 "cells": [
  {
   "cell_type": "markdown",
   "id": "3d64f86c",
   "metadata": {},
   "source": [
    "## SEMINARSKA NALOGA \n"
   ]
  },
  {
   "cell_type": "markdown",
   "id": "d1f20db1",
   "metadata": {},
   "source": [
    "### PRIDOBIVANJE PODATKOV"
   ]
  },
  {
   "cell_type": "code",
   "execution_count": 102,
   "metadata": {},
   "outputs": [],
   "source": [
    "import pandas as pd\n",
    "import glob\n",
    "from pathlib import Path\n",
    "import warnings\n",
    "warnings.filterwarnings('ignore')\n",
    "\n",
    "# making the path dictionary for .csv and .txt files for easy access\n",
    "csv_data = {data.split('\\\\')[1].split('.')[0].upper():data for data in glob.glob('data/*.csv')}\n",
    "# for .txt files there are 3 files for each year\n",
    "txt_data = {\n",
    "    'KD2001':[],\n",
    "    'KD2002':[],\n",
    "    'KD2003':[],\n",
    "    'KD2004':[],\n",
    "    'KD2005':[],\n",
    "    'KD2006':[],\n",
    "    'KD2007':[],\n",
    "    'KD2008':[]\n",
    "}\n",
    "for path in Path('data').rglob('*.txt'):\n",
    "    txt_data[str(path).split('\\\\')[1].upper()].append(str(path))"
   ]
  },
  {
   "cell_type": "markdown",
   "id": "57f5960d",
   "metadata": {},
   "source": [
    "### ANALIZA PODATKOV GLEDE NA ČAS"
   ]
  },
  {
   "cell_type": "code",
   "execution_count": 103,
   "id": "c65ef850",
   "metadata": {},
   "outputs": [],
   "source": [
    "df = pd.read_csv(csv_data['KD2009'], sep=';', encoding='cp1250')\n",
    "df_weekend = df.loc[(df['DanVTednu'] == 'SOBOTA') | (df['DanVTednu'] == 'NEDELJA')]\n",
    "df_week = df.loc[(df['DanVTednu'] != 'SOBOTA') & (df['DanVTednu'] != 'NEDELJA')]"
   ]
  }
 ],
 "metadata": {
  "interpreter": {
   "hash": "d7cbecef2ceb82e8cd42125b9851d3c6508ee4dfa6e7a69bbdeafb15ada63eff"
  },
  "kernelspec": {
   "display_name": "Python 3.10.1 64-bit",
   "language": "python",
   "name": "python3"
  },
  "language_info": {
   "codemirror_mode": {
    "name": "ipython",
    "version": 3
   },
   "file_extension": ".py",
   "mimetype": "text/x-python",
   "name": "python",
   "nbconvert_exporter": "python",
   "pygments_lexer": "ipython3",
   "version": "3.10.1"
  }
 },
 "nbformat": 4,
 "nbformat_minor": 5
}

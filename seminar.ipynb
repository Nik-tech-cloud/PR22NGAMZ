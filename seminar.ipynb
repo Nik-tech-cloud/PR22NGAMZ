{
 "cells": [
  {
   "cell_type": "markdown",
   "id": "bf8f064f",
   "metadata": {},
   "source": [
    "## SEMINARSKA NALOGA"
   ]
  },
  {
   "cell_type": "markdown",
   "id": "0ac97c5a",
   "metadata": {},
   "source": [
    "### PRIDOBITEV IN OBLIKOVANJE PODATKOV\n",
    " \n",
    "Stolpci, ki opisujejo naše podatke so naslednji:  \n",
    "* ZaporednaStevilkaKD,\n",
    "* MesecStoritve,\n",
    "* UraStoritve,\n",
    "* DanVTednu,\n",
    "* OrganizacijskaEnotaStoritve,\n",
    "* Povratnik,\n",
    "* OpisKD,\n",
    "* PoglavjeKD,\n",
    "* GospodarskiKriminal,\n",
    "* OrganiziranKriminal,\n",
    "* MladoletniskaKriminaliteta,\n",
    "* Poskus,\n",
    "* KriminalisticnaOznacba1,\n",
    "* KriminalisticnaOznacba2,\n",
    "* KriminalisticnaOznacba3,\n",
    "* UporabljenoSredstvo1,\n",
    "* UporabljenoSredstvo2,\n",
    "* UporabljenoSredstvo3,\n",
    "* UporabljenoSredstvo4,\n",
    "* UpravnaEnota,\n",
    "* OpisKraja,\n",
    "* LetoZakljucnegaDokumenta,\n",
    "* VrstaZakDokumenta,\n",
    "* ZaporednaStevilkaOsebeVKD,\n",
    "* VrstaOsebe,\n",
    "* StarostniRazred,\n",
    "* Spol,\n",
    "* Drzavljanstvo,\n",
    "* Poskodba,\n",
    "* VplivAlkohola,\n",
    "* VplivMamil,\n",
    "* OrganiziranaZdruzba,\n",
    "* Skoda"
   ]
  },
  {
   "cell_type": "code",
   "execution_count": 126,
   "id": "9405c693",
   "metadata": {},
   "outputs": [],
   "source": [
    "import pandas as pd\n",
    "import glob\n",
    "from pathlib import Path\n",
    "import warnings\n",
    "warnings.filterwarnings('ignore')\n",
    "\n",
    "l = glob.glob('data/*.csv')\n",
    "for i in range(len(l)):\n",
    "    l[i] = l[i].split('\\\\')[-1].upper()\n",
    "\n",
    "# slovar poti do .csv datotek \n",
    "csv_data = {data.split('\\\\')[1].split('.')[0].upper():data for data in glob.glob('data/*.csv')}"
   ]
  },
  {
   "cell_type": "code",
   "execution_count": 127,
   "id": "4776f4e9",
   "metadata": {},
   "outputs": [],
   "source": [
    "dataframes = {}\n",
    "for key, value in csv_data.items():\n",
    "    df = pd.read_csv(csv_data[key], sep=';', encoding='cp1250', skipinitialspace = True).apply(lambda x: x.str.strip() if x.dtype == \"object\" else x)\n",
    "    dataframes[key.upper()] = df\n",
    "\n",
    "for df1 in dataframes.values():\n",
    "    df1.columns = ['MesecStoritve' if x == 'DatumStoritve' else x for x in df]"
   ]
  },
  {
   "cell_type": "markdown",
   "id": "d0513b30",
   "metadata": {},
   "source": [
    "### ANALIZA PODATKOV GLEDE NA ČAS"
   ]
  },
  {
   "cell_type": "code",
   "execution_count": 137,
   "id": "c65ef850",
   "metadata": {},
   "outputs": [],
   "source": [
    "def convert_date(s) -> str:\n",
    "    s1 = str(s)\n",
    "    print(s)\n",
    "    s1 = s1[:-4] + '.' + s1[-4:]\n",
    "    return s1\n",
    "\n",
    "time_dataframes = {k:v for k,v in dataframes.items()}\n",
    "\n",
    "date_frame1 = dataframes['KD2009']\n",
    "\n",
    "#df1['MesecStoritve'] = df1['MesecStoritve'].apply(convert_date)\n",
    "#df1['MesecStoritve'] =  pd.to_datetime(df1['MesecStoritve'], format='%M.%Y')"
   ]
  }
 ],
 "metadata": {
  "interpreter": {
   "hash": "d7cbecef2ceb82e8cd42125b9851d3c6508ee4dfa6e7a69bbdeafb15ada63eff"
  },
  "kernelspec": {
   "display_name": "Python 3.10.1 64-bit",
   "language": "python",
   "name": "python3"
  },
  "language_info": {
   "codemirror_mode": {
    "name": "ipython",
    "version": 3
   },
   "file_extension": ".py",
   "mimetype": "text/x-python",
   "name": "python",
   "nbconvert_exporter": "python",
   "pygments_lexer": "ipython3",
   "version": "3.10.1"
  }
 },
 "nbformat": 4,
 "nbformat_minor": 5
}

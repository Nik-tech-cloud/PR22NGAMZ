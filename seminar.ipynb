{
 "cells": [
  {
   "cell_type": "markdown",
   "id": "bf8f064f",
   "metadata": {},
   "source": [
    "## SEMINARSKA NALOGA"
   ]
  },
  {
   "cell_type": "markdown",
   "id": "0ac97c5a",
   "metadata": {},
   "source": [
    "### PRIDOBITEV IN OBLIKOVANJE PODATKOV\n",
    " \n",
    "Stolpci, ki opisujejo naše podatke so naslednji:  \n",
    "* ZaporednaStevilkaKD,\n",
    "* MesecStoritve,\n",
    "* UraStoritve,\n",
    "* DanVTednu,\n",
    "* OrganizacijskaEnotaStoritve,\n",
    "* Povratnik,\n",
    "* OpisKD,\n",
    "* PoglavjeKD,\n",
    "* GospodarskiKriminal,\n",
    "* OrganiziranKriminal,\n",
    "* MladoletniskaKriminaliteta,\n",
    "* Poskus,\n",
    "* KriminalisticnaOznacba1,\n",
    "* KriminalisticnaOznacba2,\n",
    "* KriminalisticnaOznacba3,\n",
    "* UporabljenoSredstvo1,\n",
    "* UporabljenoSredstvo2,\n",
    "* UporabljenoSredstvo3,\n",
    "* UporabljenoSredstvo4,\n",
    "* UpravnaEnota,\n",
    "* OpisKraja,\n",
    "* LetoZakljucnegaDokumenta,\n",
    "* VrstaZakDokumenta,\n",
    "* ZaporednaStevilkaOsebeVKD,\n",
    "* VrstaOsebe,\n",
    "* StarostniRazred,\n",
    "* Spol,\n",
    "* Drzavljanstvo,\n",
    "* Poskodba,\n",
    "* VplivAlkohola,\n",
    "* VplivMamil,\n",
    "* OrganiziranaZdruzba,\n",
    "* Skoda"
   ]
  },
  {
   "cell_type": "code",
   "execution_count": 2,
   "id": "9405c693",
   "metadata": {},
   "outputs": [],
   "source": [
    "import pandas as pd\n",
    "import glob\n",
    "from pathlib import Path\n",
    "import warnings\n",
    "warnings.filterwarnings('ignore')\n",
    "\n",
    "l = glob.glob('data/*.csv')\n",
    "for i in range(len(l)):\n",
    "    l[i] = l[i].split('\\\\')[-1].upper()\n",
    "\n",
    "# slovar poti do .csv datotek \n",
    "csv_data = {data.split('\\\\')[1].split('.')[0].upper():data for data in glob.glob('data/*.csv')}"
   ]
  },
  {
   "cell_type": "code",
   "execution_count": 3,
   "id": "4776f4e9",
   "metadata": {},
   "outputs": [],
   "source": [
    "dataframes = {}\n",
    "for key, value in csv_data.items():\n",
    "    df = pd.read_csv(csv_data[key], sep=';', encoding='cp1250', skipinitialspace = True)\n",
    "    dataframes[key.upper()] = df\n",
    "\n",
    "for df1 in dataframes.values():\n",
    "    df1.columns = ['MesecStoritve' if x == 'DatumStoritve' else x for x in df]"
   ]
  },
  {
   "cell_type": "markdown",
   "id": "d0513b30",
   "metadata": {},
   "source": [
    "### ANALIZA PODATKOV GLEDE NA ČAS"
   ]
  },
  {
   "cell_type": "code",
   "execution_count": 25,
   "id": "c65ef850",
   "metadata": {},
   "outputs": [
    {
     "data": {
      "image/png": "[encoded data removed]",
      "text/plain": [
       "<Figure size 720x720 with 1 Axes>"
      ]
     },
     "metadata": {
      "needs_background": "light"
     },
     "output_type": "display_data"
    }
   ],
   "source": [
    "import matplotlib.pyplot as plt\n",
    "from copy import copy\n",
    "def convert_date(s) -> str:\n",
    "    print(s)\n",
    "    return s\n",
    "\n",
    "time_dataframes = {k:v for k,v in dataframes.items()}\n",
    "\n",
    "df1 = copy(time_dataframes['KD2009'])\n",
    "\n",
    "df1['MesecStoritve'] = df1['MesecStoritve'].apply(lambda x: str(x)[:-4]+'.'+str(x)[-4:])\n",
    "df1['MesecStoritve'] =  pd.to_datetime(df1['MesecStoritve'], format='%m.%Y')\n",
    "\n",
    "dnevi = df1['DanVTednu'].value_counts()\n",
    "x = ['PONEDELJEK', 'TOREK', 'SREDA', 'ČETRTEK', 'PETEK', 'SOBOTA', 'NEDELJA']\n",
    "y = [dnevi.PONEDELJEK, dnevi.TOREK, dnevi.SREDA, dnevi.ČETRTEK, dnevi.PETEK, dnevi.SOBOTA, dnevi.NEDELJA]\n",
    "\n",
    "plt.figure(figsize=(10,10))\n",
    "plt.bar(x, y)\n",
    "plt.show()"
   ]
  }
 ],
 "metadata": {
  "interpreter": {
   "hash": "d7cbecef2ceb82e8cd42125b9851d3c6508ee4dfa6e7a69bbdeafb15ada63eff"
  },
  "kernelspec": {
   "display_name": "Python 3.10.1 64-bit",
   "language": "python",
   "name": "python3"
  },
  "language_info": {
   "codemirror_mode": {
    "name": "ipython",
    "version": 3
   },
   "file_extension": ".py",
   "mimetype": "text/x-python",
   "name": "python",
   "nbconvert_exporter": "python",
   "pygments_lexer": "ipython3",
   "version": "3.10.1"
  }
 },
 "nbformat": 4,
 "nbformat_minor": 5
}

{
 "cells": [
  {
   "cell_type": "markdown",
   "id": "3d64f86c",
   "metadata": {},
   "source": [
    "**SEMINARSKA NALOGA**"
   ]
  },
  {
   "cell_type": "code",
   "execution_count": null,
   "metadata": {},
   "outputs": [],
   "source": [
    "# PRIDOBIVANJE PODATKOV"
   ]
  }
 ],
 "metadata": {
  "language_info": {
   "name": "python"
  }
 },
 "nbformat": 4,
 "nbformat_minor": 5
}

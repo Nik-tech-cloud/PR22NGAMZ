{
 "cells": [
  {
   "cell_type": "markdown",
   "metadata": {},
   "source": [
    "# POROČILO SEMINARSKE NALOGE - KAZNIVA DEJANJA V SLOVENIJI"
   ]
  },
  {
   "cell_type": "markdown",
   "metadata": {},
   "source": [
    "## KRAJ\n",
    "### UVOD\n",
    "Pri kriminalu je zelo pomemben podatek kraj, ki nam lahko ob pravilni interpretaciji sporoci veloiko podatkov. S pomocjo grafa lahko izvemo kateri kraji so bolj ali manj nevarni. V katerih krajih potekajo dolocene vrste kriminala... Porocilo o kraju bom razdelil na uvod, in na kjucne ugotovitve.\n",
    "### NAJVEČ KRIMINALA V LJUBLANI\n",
    "Na prvi pogled Ljubljana močno prevladuje v številu krimala. Na podroben ogled pa si prvo mesto prislužuje zgolj zaradi zelo goste poselitve prebivalca. Ko enkrat upostevamo faktor same povrsine Ljubljane, št. prebivalstva in gostoto prebivalstva hitro ugotovimo, da se najbolj kriminalno prebivalstvo nahaja drugje (Novo Mesto). Morda je prebivalstvo v Novem Mestu bolj nagnjeno k kriminalu, ali pa imajo nekaj neprijavljenih prebivalcev, ki večajo delež kriminala.\n",
    "### KRIMINAL SKOZI ČAS GLEDE KRAJ\n",
    "Skozi čas ne opazimo trenda, da bi v določenih občinah kriminal močno narastel. Je pa vsepovsod prepoznavem močen vpad kriminala.\n",
    "### NAJBOLJ OBREMENJENA PU\n",
    "Lahko sklepamo, da je PU Ljubljana najbolj obremenjena in je zato tudi največja. Sklepamo pravilno, saj PU Ljubljana predela 2x kriminala kot PU Maribor, ki je na drugem mestu.\n",
    "### VRSTE KRIMINALA V POSAMEZNIH OBČINAH\n",
    "Tu zadeve postanejo resnično zanimive. V animation mapi se nahaja kar nekaj animacij, ki nazorno prikazujejo spreminjanje dolocenega tipa kriminala po občinah glede na čas. Najbolj preseneca dejsto, da se določeni tipi kriminala ne dogajajo pretezno v Ljubljani. Kriminal storjen zoper suverenost RS in njeno demokraticno ureditev se naprimer nikoli ne zgodi v Ljubljani. Temvec v dveh obmejnih občinskih enotah. Zanimiva je tudi animacije kriminalnih storitev zoper spolne nedotaklivosti. Lahko vidimo, da imamo poraste aktivnosti tekom let v razlicnih občinah.\n",
    "### NAJBOLJ ZANIMIV GRAF-ANIMACIJA ./animation/animation2/output\""
   ]
  },
  {
   "cell_type": "markdown",
   "metadata": {},
   "source": [
    "## ČAS    \n",
    "\n",
    "Naslednji zelo pomemben podatek je čas, iz katerega lahko izvemo kako se kazniva dejanja odvijajo v naslednih časovnih domenah:\n",
    "\n",
    "### Leto   \n",
    "\n",
    "Glede na leto lahko vidimo ali so kakšna leta bolj 'pestra' s kaznivimi dejanji in, če so bolj pestra od povprečja ali pa manj pestra od povprečja se lahko osredotočimo na tisto leto ter ugotovimo kaj je vzrok upada ali pa porasta kaznivih dejanj.\n",
    "### Mesec   \n",
    "\n",
    "Glede na mesec lahko gledamo na precej različne dejavnike, kot so:   \n",
    "1. Počitnice in dopusti med poletjem,\n",
    "2. Zimsko vreme med zimskimi meseci(sneg, poledica - več nesreč, prazniki(, to se precej vidi v grafu 'Povprečna škoda na mesec', kjer je povprečna škoda največja))\n",
    "### Dan v tednu   \n",
    "\n",
    "Pri različnih dnevih se lahko osredotočimo na 2 različna tipa:\n",
    "1. Dnevi med tednom - tukaj si rezultate lahko razlagamo glede na delavnik\n",
    "2. Dnevi med vikendom - tukaj pri razlagi rezultatov upoštevamo, da so se ta kazniva dejanja zgodila izven delavnih dni.\n",
    "### Ura kaznivega dejanja   \n",
    "\n",
    "Pri časovnih obdobjih gledamo predvsem naslednje dejavnike:\n",
    "1. Začetek službe, šole (okoli 8:00-8:59),\n",
    "2. Zaključek službe, šole (okoli 14:00-14:59),\n",
    "3. Večerne ure 23:00-00:59 - (čas zabav)"
   ]
  },
  {
   "cell_type": "markdown",
   "metadata": {},
   "source": [
    "### UVOD   \n",
    "\n",
    "Na svetu je veliko različnih ljudi, ampak pri kriminalu se vidi kako skoraj vsi ljudi dost podobno se obnašajo in razmišljajo. Zato smo se fokusirali na Osebe in poskusili najti razlike in podobnosti vezane za kriminal.\n",
    "### RAZLIKA MED SPOLOMA   \n",
    "\n",
    "Najvecje razlike so ble pri starosti oseb, in pri spolu pa smo se najvec na to fokusirali. Spol je bil ogromen faktor, dost večji procent je moskih kriminalcev (tudi to smo pričakovali).\n",
    "### VPLIV ALKOHOLA NA OSEBE   \n",
    "\n",
    "Na zacetku smo pricakoval da bo alkohol vplival na vecji procent ljudi, ampak je dost majhno stevilo ljudi ki je pod dejstvom alkohola kršil zakon. Najvecji delez tih ljudi so bli moski, z dominantnim 95% a osebe zenskega spola samo 5%.\n",
    "To se dobro vidi na grafu \"1. Prikaz razmerja celokupne skode med spoli.\"\n",
    "### SKODA   \n",
    "\n",
    "Večino kaznivega dejanja zagrešijo moški, zanimivo pa je, da v škodi ni tako velike razlike, velik del so k temu dodale ženske."
   ]
  },
  {
   "cell_type": "markdown",
   "metadata": {},
   "source": [
    "## Obdelava podatkov glede na organizirane združbe\n",
    "\n",
    "### UVOD\n",
    "\n",
    "Poleg kraja, časa in ostalega menimo, da je za obdelavo podatkov, pomemben tudi stolpec Organizirana združba. Le-ta nam pove ali je bila oseba v času izvajanja krinimala prisotna v neki združbi ali neki.\n",
    "\n",
    "### Organizirane združbe ter regije\n",
    "\n",
    "Naredili smo grafe, ki prikazujejo obe vrednosti (DA in NE) po posamezni regiji. Graf nam je pokazal, da je največ organiziranega kriminala v Sloveniji, v osrednjeslovenski regiji. Sklepamo, da je to zaradi, ker je glavno mesto in je kar veliko podležov oziroma nasilnežev prav tukaj, v srcu Slovenije. Takoj naslednja regija, ki pa je tudi pokazala veliko število organiziranga kriminala pa je podravska regija. Podobno kakor za Ljubljano oziroma osrednjeslovensko regijo je to zaradi tega, ker se tam tudi nahaja eno večjih mest v Sloveniji (Maribor). <br>\n",
    "\n",
    "Nagrado za največ NE organiziranjega kriminala (vrednost NE) pa prav tako dobi osrednjeslovenksa regija. Kar nam da vedeti, da je ta regija, ne glede na prisotnost organiziranih skupin ali ne, zelo nevarna, saj se je skozi leta tam zgodilo daleč največ krinimala.\n",
    "\n",
    "### Organiziranje združbe ter starostne skupine\n",
    "\n",
    "Tukaj smo naredili grafe, ki nam predstavljajo kako se posamezne osebe odločajo za ivedbo kriminala (organiziran ali ne organiziran). Tukaj smo najprej najprej odstranili nekaj vrednosti (glej tortne diagrame 1, 2 in 3 pod temo Priprava podatkov za prikaz kriminala glede na organizirano združbo). Te smo odstranili, zato ker niso bili uporabni ali pa so predstavljali kakšne druge družbe (t.j. podatek PRAVNA OSEBA).<br>\n",
    "\n",
    "Pri 2 in 3 grafu pod istim sklopom smo dobili naslednje rezultate:<br><br>\n",
    "2. graf nam predstavlja razmerje med lmadoletnimi in ne mladoletnimi osebami, ki pripadajo neki združbi. Pričakovano je bilo, da je več oseb starejših od 18 let naredilo kriminal v neki organizirani skupini kot pa oseb, ki so mlajše od 18.<br>\n",
    "\n",
    "Pri 3. grafu smo dobili podobne rezultate, le da smo tukaj uporabili vrednost NE. Dobili smo enak rezultat, torej da je več oseb starejših kot 18 naredilo nek posamezen ali \"solo\" kriminal.\n",
    "\n"
   ]
  },
  {
   "cell_type": "markdown",
   "metadata": {},
   "source": [
    "## Obdelava podatkov glede na vrsto kriminala"
   ]
  },
  {
   "cell_type": "markdown",
   "metadata": {},
   "source": [
    "## UVOD\n",
    "\n",
    "V tem delu ana"
   ]
  }
 ],
 "metadata": {
  "interpreter": {
   "hash": "44085ed120ba259710bc65082703442902ca0a9e17b71a65295d7513fc655fff"
  },
  "kernelspec": {
   "display_name": "Python 3 (ipykernel)",
   "language": "python",
   "name": "python3"
  },
  "language_info": {
   "codemirror_mode": {
    "name": "ipython",
    "version": 3
   },
   "file_extension": ".py",
   "mimetype": "text/x-python",
   "name": "python",
   "nbconvert_exporter": "python",
   "pygments_lexer": "ipython3",
   "version": "3.8.9"
  }
 },
 "nbformat": 4,
 "nbformat_minor": 2
}

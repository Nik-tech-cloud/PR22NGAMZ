{
 "cells": [
  {
   "cell_type": "markdown",
   "metadata": {},
   "source": [
    "# POROČILO SEMINARSKE NALOGE - KAZNIVA DEJANJA V SLOVENIJI"
   ]
  },
  {
   "cell_type": "markdown",
   "metadata": {},
   "source": [
    "## KRAJ\n",
    "### UVOD\n",
    "Pri kriminalu je zelo pomemben podatek kraj, ki nam lahko ob pravilni interpretaciji sporoci veloiko podatkov. S pomocjo grafa lahko izvemo kateri kraji so bolj ali manj nevarni. V katerih krajih potekajo dolocene vrste kriminala... Porocilo o kraju bom razdelil na uvod, in na kjucne ugotovitve.\n",
    "### NAJVEČ KRIMINALA V LJUBLANI\n",
    "Na prvi pogled Ljubljana močno prevladuje v številu krimala. Na podroben ogled pa si prvo mesto prislužuje zgolj zaradi zelo goste poselitve prebivalca. Ko enkrat upostevamo faktor same povrsine Ljubljane, št. prebivalstva in gostoto prebivalstva hitro ugotovimo, da se najbolj kriminalno prebivalstvo nahaja drugje (Novo Mesto). Morda je prebivalstvo v Novem Mestu bolj nagnjeno k kriminalu, ali pa imajo nekaj neprijavljenih prebivalcev, ki večajo delež kriminala.\n",
    "### KRIMINAL SKOZI ČAS GLEDE KRAJ\n",
    "Skozi čas ne opazimo trenda, da bi v določenih občinah kriminal močno narastel. Je pa vsepovsod prepoznavem močen vpad kriminala.\n",
    "### NAJBOLJ OBREMENJENA PU\n",
    "Lahko sklepamo, da je PU Ljubljana najbolj obremenjena in je zato tudi največja. Sklepamo pravilno, saj PU Ljubljana predela 2x kriminala kot PU Maribor, ki je na drugem mestu.\n",
    "### VRSTE KRIMINALA V POSAMEZNIH OBČINAH\n",
    "Tu zadeve postanejo resnično zanimive. V animation mapi se nahaja kar nekaj animacij, ki nazorno prikazujejo spreminjanje dolocenega tipa kriminala po občinah glede na čas. Najbolj preseneca dejsto, da se določeni tipi kriminala ne dogajajo pretezno v Ljubljani. Kriminal storjen zoper suverenost RS in njeno demokraticno ureditev se naprimer nikoli ne zgodi v Ljubljani. Temvec v dveh obmejnih občinskih enotah. Zanimiva je tudi animacije kriminalnih storitev zoper spolne nedotaklivosti. Lahko vidimo, da imamo poraste aktivnosti tekom let v razlicnih občinah.\n",
    "### NAJBOLJ ZANIMIV GRAF-ANIMACIJA ./animation/animation2/output\""
   ]
  },
  {
   "cell_type": "markdown",
   "metadata": {},
   "source": [
    "## ČAS    \n",
    "\n",
    "Naslednji zelo pomemben podatek je čas, nam veliko pove o tem "
   ]
  },
  {
   "cell_type": "markdown",
   "metadata": {},
   "source": [
    "KIZO"
   ]
  },
  {
   "cell_type": "markdown",
   "metadata": {},
   "source": [
    "## Obdelava podatkov glede na organizirane združbe\n",
    "\n",
    "### UVOD\n",
    "\n",
    "Poleg kraja, časa in ostalega menimo, da je za obdelavo podatkov, pomemben tudi stolpec Organizirana združba. Le-ta nam pove ali je bila oseba v času izvajanja krinimala prisotna v neki združbi ali neki.\n",
    "\n",
    "### Organizirane združbe ter regije\n",
    "\n",
    "Naredili smo grafe, ki prikazujejo obe vrednosti (DA in NE) po posamezni regiji. Graf nam je pokazal, da je največ organiziranega kriminala v Sloveniji, v osrednjeslovenski regiji. Sklepamo, da je to zaradi, ker je glavno mesto in je kar veliko podležov oziroma nasilnežev prav tukaj, v srcu Slovenije. Takoj naslednja regija, ki pa je tudi pokazala veliko število organiziranga kriminala pa je podravska regija. Podobno kakor za Ljubljano oziroma osrednjeslovensko regijo je to zaradi tega, ker se tam tudi nahaja eno večjih mest v Sloveniji (Maribor). <br>\n",
    "\n",
    "Nagrado za največ NE organiziranjega kriminala (vrednost NE) pa prav tako dobi osrednjeslovenksa regija. Kar nam da vedeti, da je ta regija, ne glede na prisotnost organiziranih skupin ali ne, zelo nevarna, saj se je skozi leta tam zgodilo daleč največ krinimala.\n",
    "\n",
    "### Organiziranje združbe ter starostne skupine\n",
    "\n",
    "Tukaj smo naredili grafe, ki nam predstavljajo kako se posamezne osebe odločajo za ivedbo kriminala (organiziran ali ne organiziran). Tukaj smo najprej najprej odstranili nekaj vrednosti (glej tortne diagrame 1, 2 in 3 pod temo Priprava podatkov za prikaz kriminala glede na organizirano združbo). Te smo odstranili, zato ker niso bili uporabni ali pa so predstavljali kakšne druge družbe (t.j. podatek PRAVNA OSEBA).<br>\n",
    "\n",
    "Pri 2 in 3 grafu pod istim sklopom smo dobili naslednje rezultate:<br><br>\n",
    "2. graf nam predstavlja razmerje med lmadoletnimi in ne mladoletnimi osebami, ki pripadajo neki združbi. Pričakovano je bilo, da je več oseb starejših od 18 let naredilo kriminal v neki organizirani skupini kot pa oseb, ki so mlajše od 18.<br>\n",
    "\n",
    "Pri 3. grafu smo dobili podobne rezultate, le da smo tukaj uporabili vrednost NE. Dobili smo enak rezultat, torej da je več oseb starejših kot 18 naredilo nek posamezen ali \"solo\" kriminal.\n",
    "\n"
   ]
  },
  {
   "cell_type": "markdown",
   "metadata": {},
   "source": [
    "CMODE"
   ]
  }
 ],
 "metadata": {
  "interpreter": {
   "hash": "44085ed120ba259710bc65082703442902ca0a9e17b71a65295d7513fc655fff"
  },
  "kernelspec": {
   "display_name": "Python 3.9.12 ('podatkovni_krti')",
   "language": "python",
   "name": "python3"
  },
  "language_info": {
   "codemirror_mode": {
    "name": "ipython",
    "version": 3
   },
   "file_extension": ".py",
   "mimetype": "text/x-python",
   "name": "python",
   "nbconvert_exporter": "python",
   "pygments_lexer": "ipython3",
   "version": "3.9.12"
  },
  "orig_nbformat": 4
 },
 "nbformat": 4,
 "nbformat_minor": 2
}

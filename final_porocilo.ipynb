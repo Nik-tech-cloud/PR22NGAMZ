{
 "cells": [
  {
   "cell_type": "markdown",
   "metadata": {},
   "source": [
    "# POROČILO SEMINARSKE NALOGE - KAZNIVA DEJANJA V SLOVENIJI"
   ]
  },
  {
   "cell_type": "markdown",
   "metadata": {},
   "source": [
    "## KRAJ\n",
    "### UVOD\n",
    "Pri kriminalu je zelo pomemben podatek kraj, ki nam lahko ob pravilni interpretaciji sporoci veloiko podatkov. S pomocjo grafa lahko izvemo kateri kraji so bolj ali manj nevarni. V katerih krajih potekajo dolocene vrste kriminala... Porocilo o kraju bom razdelil na uvod, in na kjucne ugotovitve.\n",
    "### NAJVEČ KRIMINALA V LJUBLANI\n",
    "Na prvi pogled Ljubljana močno prevladuje v številu krimala. Na podroben ogled pa si prvo mesto prislužuje zgolj zaradi zelo goste poselitve prebivalca. Ko enkrat upostevamo faktor same povrsine Ljubljane, št. prebivalstva in gostoto prebivalstva hitro ugotovimo, da se najbolj kriminalno prebivalstvo nahaja drugje (Novo Mesto). Morda je prebivalstvo v Novem Mestu bolj nagnjeno k kriminalu, ali pa imajo nekaj neprijavljenih prebivalcev, ki večajo delež kriminala.\n",
    "### KRIMINAL SKOZI ČAS GLEDE KRAJ\n",
    "Skozi čas ne opazimo trenda, da bi v določenih občinah kriminal močno narastel. Je pa vsepovsod prepoznavem močen vpad kriminala.\n",
    "### NAJBOLJ OBREMENJENA PU\n",
    "Lahko sklepamo, da je PU Ljubljana najbolj obremenjena in je zato tudi največja. Sklepamo pravilno, saj PU Ljubljana predela 2x kriminala kot PU Maribor, ki je na drugem mestu.\n",
    "### VRSTE KRIMINALA V POSAMEZNIH OBČINAH\n",
    "Tu zadeve postanejo resnično zanimive. V animation mapi se nahaja kar nekaj animacij, ki nazorno prikazujejo spreminjanje dolocenega tipa kriminala po občinah glede na čas. Najbolj preseneca dejsto, da se določeni tipi kriminala ne dogajajo pretezno v Ljubljani. Kriminal storjen zoper suverenost RS in njeno demokraticno ureditev se naprimer nikoli ne zgodi v Ljubljani. Temvec v dveh obmejnih občinskih enotah. Zanimiva je tudi animacije kriminalnih storitev zoper spolne nedotaklivosti. Lahko vidimo, da imamo poraste aktivnosti tekom let v razlicnih občinah.\n",
    "### NAJBOLJ ZANIMIV GRAF-ANIMACIJA ./animation/animation2/output\""
   ]
  },
  {
   "cell_type": "markdown",
   "metadata": {},
   "source": [
    "## ČAS    \n",
    "\n",
    "Naslednji zelo pomemben podatek je čas, iz katerega lahko izvemo kako se kazniva dejanja odvijajo v naslednih časovnih domenah:\n",
    "\n",
    "### Leto   \n",
    "\n",
    "Glede na leto lahko vidimo ali so kakšna leta bolj 'pestra' s kaznivimi dejanji in, če so bolj pestra od povprečja ali pa manj pestra od povprečja se lahko osredotočimo na tisto leto ter ugotovimo kaj je vzrok upada ali pa porasta kaznivih dejanj.\n",
    "### Mesec   \n",
    "\n",
    "Glede na mesec lahko gledamo na precej različne dejavnike, kot so:   \n",
    "1. Počitnice in dopusti med poletjem,\n",
    "2. Zimsko vreme med zimskimi meseci(sneg, poledica - več nesreč, prazniki(, to se precej vidi v grafu 'Povprečna škoda na mesec', kjer je povprečna škoda največja))\n",
    "### Dan v tednu   \n",
    "\n",
    "Pri različnih dnevih se lahko osredotočimo na 2 različna tipa:\n",
    "1. Dnevi med tednom - tukaj si rezultate lahko razlagamo glede na delavnik\n",
    "2. Dnevi med vikendom - tukaj pri razlagi rezultatov upoštevamo, da so se ta kazniva dejanja zgodila izven delavnih dni.\n",
    "### Ura kaznivega dejanja   \n",
    "\n",
    "Pri časovnih obdobjih gledamo predvsem naslednje dejavnike:\n",
    "1. Začetek službe, šole (okoli 8:00-8:59),\n",
    "2. Zaključek službe, šole (okoli 14:00-14:59),\n",
    "3. Večerne ure 23:00-00:59 - (čas zabav)"
   ]
  },
  {
   "cell_type": "markdown",
   "metadata": {},
   "source": [
    "KIZO"
   ]
  },
  {
   "cell_type": "markdown",
   "metadata": {},
   "source": [
    "KREVS"
   ]
  },
  {
   "cell_type": "markdown",
   "metadata": {},
   "source": [
    "CMODE"
   ]
  }
 ],
 "metadata": {
  "interpreter": {
   "hash": "44085ed120ba259710bc65082703442902ca0a9e17b71a65295d7513fc655fff"
  },
  "kernelspec": {
   "display_name": "Python 3.9.12 ('podatkovni_krti')",
   "language": "python",
   "name": "python3"
  },
  "language_info": {
   "codemirror_mode": {
    "name": "ipython",
    "version": 3
   },
   "file_extension": ".py",
   "mimetype": "text/x-python",
   "name": "python",
   "nbconvert_exporter": "python",
   "pygments_lexer": "ipython3",
   "version": "3.9.12"
  },
  "orig_nbformat": 4
 },
 "nbformat": 4,
 "nbformat_minor": 2
}

{
 "cells": [
  {
   "cell_type": "code",
   "execution_count": 1,
   "metadata": {},
   "outputs": [],
   "source": [
    "# porocilo more met menda 4 strani cca... ker nas je 5 bom napisu mal mn kokr eno stran... Pa k je zravn se slika grafa... pou strani"
   ]
  },
  {
   "cell_type": "markdown",
   "metadata": {},
   "source": [
    "## KRAJ\n",
    "### UVOD\n",
    "Pri kriminalu je zelo pomemben podatek kraj, ki nam lahko ob pravilni interpretaciji sporoci veloiko podatkov. S pomocjo grafa lahko izvemo kateri kraji so bolj ali manj nevarni. V katerih krajih potekajo dolocene vrste kriminala... Porocilo o kraju bom razdelil na uvod, in na kjucne ugotovitve.\n",
    "### NAJVEČ KRIMINALA V LJUBLANI\n",
    "Na prvi pogled Ljubljana močno prevladuje v številu krimala. Na podroben ogled pa si prvo mesto prislužuje zgolj zaradi zelo goste poselitve prebivalca. Ko enkrat upostevamo faktor same povrsine Ljubljane, št. prebivalstva in gostoto prebivalstva hitro ugotovimo, da se najbolj kriminalno prebivalstvo nahaja drugje (Novo Mesto). Morda je prebivalstvo v Novem Mestu bolj nagnjeno k kriminalu, ali pa imajo nekaj neprijavljenih prebivalcev, ki večajo delež kriminala.\n",
    "### KRIMINAL SKOZI ČAS GLEDE KRAJ\n",
    "Skozi čas ne opazimo trenda, da bi v določenih občinah kriminal močno narastel. Je pa vsepovsod prepoznavem močen vpad kriminala.\n",
    "### NAJBOLJ OBREMENJENA PU\n",
    "Lahko sklepamo, da je PU Ljubljana najbolj obremenjena in je zato tudi največja. Sklepamo pravilno, saj PU Ljubljana predela 2x kriminala kot PU Maribor, ki je na drugem mestu.\n",
    "### VRSTE KRIMINALA V POSAMEZNIH OBČINAH\n",
    "Tu zadeve postanejo resnično zanimive. V animation mapi se nahaja kar nekaj animacij, ki nazorno prikazujejo spreminjanje dolocenega tipa kriminala po občinah glede na čas. Najbolj preseneca dejsto, da se določeni tipi kriminala ne dogajajo pretezno v Ljubljani. Kriminal storjen zoper suverenost RS in njeno demokraticno ureditev se naprimer nikoli ne zgodi v Ljubljani. Temvec v dveh obmejnih občinskih enotah. Zanimiva je tudi animacije kriminalnih storitev zoper spolne nedotaklivosti. Lahko vidimo, da imamo poraste aktivnosti tekom let v razlicnih občinah.\n",
    "### NAJBOLJ ZANIMIV GRAF-ANIMACIJA ./animation/animation2/output\""
   ]
  }
 ],
 "metadata": {
  "interpreter": {
   "hash": "44085ed120ba259710bc65082703442902ca0a9e17b71a65295d7513fc655fff"
  },
  "kernelspec": {
   "display_name": "Python 3.9.12 ('podatkovni_krti')",
   "language": "python",
   "name": "python3"
  },
  "language_info": {
   "codemirror_mode": {
    "name": "ipython",
    "version": 3
   },
   "file_extension": ".py",
   "mimetype": "text/x-python",
   "name": "python",
   "nbconvert_exporter": "python",
   "pygments_lexer": "ipython3",
   "version": "3.9.12"
  },
  "orig_nbformat": 4
 },
 "nbformat": 4,
 "nbformat_minor": 2
}

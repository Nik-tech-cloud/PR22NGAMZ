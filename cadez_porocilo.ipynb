{
 "cells": [
  {
   "cell_type": "code",
   "execution_count": 1,
   "metadata": {},
   "outputs": [],
   "source": [
    "# porocilo more met menda 4 strani cca... ker nas je 5 bom napisu mal mn kokr eno stran... Pa k je zravn se slika grafa... pou strani"
   ]
  },
  {
   "cell_type": "markdown",
   "metadata": {},
   "source": [
    "## KRAJ\n",
    "### UVOD\n",
    "Pri kriminalu je zelo pomemben podatek kraj, ki nam lahko ob pravilni interpretaciji sporoci veloiko podatkov. S pomocjo grafa lahko izvemo kateri kraji so bolj ali manj nevarni. V katerih krajih potekajo dolocene vrste kriminala... Porocilo o kraju bom razdelil na uvod, in na kjucne ugotovitve.\n",
    "### NAJVEČ KRIMINALA V LJUBLANI\n",
    "Na prvi pogled Ljubljana močno prevladuje v številu krimala. Na podroben ogled pa si prvo mesto prislužuje zgolj zaradi zelo goste poselitve prebivalca. Ko enkrat upostevamo faktor same povrsine Ljubljane, št. prebivalstva in gostoto prebivalstva hitro ugotovimo, da se najbolj kriminalno prebivalstvo nahaja drugje (Novo Mesto). Morda je prebivalstvo v Novem Mestu bolj nagnjeno k kriminalu, ali pa imajo nekaj neprijavljenih prebivalcev, ki večajo delež kriminala."
   ]
  }
 ],
 "metadata": {
  "interpreter": {
   "hash": "44085ed120ba259710bc65082703442902ca0a9e17b71a65295d7513fc655fff"
  },
  "kernelspec": {
   "display_name": "Python 3.9.12 ('podatkovni_krti')",
   "language": "python",
   "name": "python3"
  },
  "language_info": {
   "codemirror_mode": {
    "name": "ipython",
    "version": 3
   },
   "file_extension": ".py",
   "mimetype": "text/x-python",
   "name": "python",
   "nbconvert_exporter": "python",
   "pygments_lexer": "ipython3",
   "version": "3.9.12"
  },
  "orig_nbformat": 4
 },
 "nbformat": 4,
 "nbformat_minor": 2
}
